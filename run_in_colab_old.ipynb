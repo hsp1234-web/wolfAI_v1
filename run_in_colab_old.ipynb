# =================================================================================
#            wolfAI_v1 Colab 專案：雙模式智慧型啟動器 (最終版)
# =================================================================================
#
# 目標：為一般使用者提供「正常模式」的穩定體驗，同時為工程團隊提供功能強大
#       的「除錯模式」以進行全面的系統健康檢查。
#
# 使用方式：
# 1. 執行此儲存格前，請先從上方的下拉選單選擇您需要的模式。
#    - 正常模式：預設選項，為一般使用者設計，流程簡潔。
#    - 除錯模式：為開發者設計，會輸出詳細日誌並執行自動化測試。
# 2. 點擊本儲存格左側的 ▶️ 執行按鈕。
#
# 版本：2.0 (Final)
# 最後更新日期：2025年6月10日
#
# =================================================================================

#@title  wolfAI_v1 智慧型啟動器
#@markdown ---
#@markdown ### **步驟 1: 請選擇執行模式**
#@markdown - **正常模式**: 為一般使用者設計，提供最穩定、簡潔的啟動流程。
#@markdown - **除錯模式**: 為開發者設計，將輸出詳細日誌並執行一系列自動化系統健康檢查。
execution_mode = "\u6B63\u5E38\u6A21\u5F0F" #@param ["\u6B63\u5E38\u6A21\u5F0F", "\u9664\u932F\u6A21\u5F0F"]
#@markdown ---

import os
import subprocess
import time
import threading
import json
import requests
from IPython.display import display, HTML, clear_output

# --- 步驟 0：定義全域參數與輔助函式 ---

# --- 專案組態 ---
GIT_REPO_URL = "https://github.com/hsp1234-web/wolfAI_v1.git"
PROJECT_DIR_NAME = "wolfAI_v1"
LOG_FILE = "service_startup.log"

# --- 服務與測試端點 (請根據您的專案修改) ---
BACKEND_HEALTH_CHECK_URL = "http://127.0.0.1:8000/api/health" # 後端健康檢查 API
FRONTEND_CHECK_URL = "http://127.0.0.1:3000" # 前端開發伺服器位址
CORE_API_ENDPOINT = "http://127.0.0.1:8000/api/generate" # 核心功能測試 API
CORE_API_TEST_PAYLOAD = {"prompt": "請生成一個測試用的範例"} # 核心功能測試用的 JSON 內容

# --- 狀態指標 ---
SUCCESS_INDICATOR = "trycloudflare.com"
PORT_CONFLICT_INDICATOR = "EADDRINUSE"
IS_DEBUG_MODE = (execution_mode == "除錯模式")

def print_step(step, title):
    """標準化輸出步驟標題"""
    print(f"\n{'='*60}")
    print(f"  {step}: {title}")
    print(f"{'='*60}\n")

def run_command(command, description, capture_output=False):
    """執行 shell 命令並提供詳細輸出 (僅在除錯模式)"""
    print(f"🔄 開始執行: {description}...")
    stdout_pipe = subprocess.PIPE if (IS_DEBUG_MODE or capture_output) else subprocess.DEVNULL
    stderr_pipe = subprocess.STDOUT if (IS_DEBUG_MODE or capture_output) else subprocess.DEVNULL

    process = subprocess.run(
        command,
        shell=True,
        capture_output=(capture_output and not IS_DEBUG_MODE), # 正常模式下才真正捕獲
        text=True,
        stdout=stdout_pipe,
        stderr=stderr_pipe
    )

    if IS_DEBUG_MODE and not capture_output:
      # 在除錯模式下，因為是即時顯示，這裡不需要再印一次
      pass
    elif process.stdout:
        print(process.stdout)

    if process.returncode != 0:
        print(f"❌ 錯誤: \"{description}\" 執行失敗。")
        if process.stderr:
            print("錯誤細節:", process.stderr)
        raise RuntimeError(f"命令 '{command}' 失敗")
    print(f"✅ 完成: {description}")
    return process.stdout if capture_output else ""


def show_error_and_guide():
    """顯示格式化的中文繁體錯誤引導 (For Normal Mode)"""
    clear_output(wait=True)
    error_html = """<div style="border:2px solid red;padding:16px;border-radius:8px;background-color:#fff5f5"><h2 style="color:#c53030">🚧 服務啟動失敗！</h2><p>這通常是因為 <strong>Colab 環境未能完全釋放先前佔用的網路端口</strong>所導致。這是一個常見的環境問題。</p><h3 style="color:#c53030">✅ 解決方案：</h3><p>請依照以下步驟操作，即可輕鬆解決：</p><ol style="line-height:1.6"><li>點擊上方選單的 <strong>【執行階段】(Runtime)</strong>。</li><li>在下拉選單中選擇 <strong>【中斷並重新啟動執行階段】(Disconnect and delete runtime)</strong>。</li><li>在跳出的確認視窗中點擊 <strong>【是】(Yes)</strong>。</li><li>等待環境完全重新啟動並連線後 (右上角顯示綠色勾勾)，<strong>再次點擊本儲存格左側的 ▶️ 執行按鈕</strong>。</li></ol></div>"""
    display(HTML(error_html))


# --- 主要執行流程開始 ---

try:
    clear_output(wait=True)
    print(f"🚀 啟動器已開始執行！您選擇的模式是：【{execution_mode}】")

    # --- 步驟 1：環境準備 ---
    print_step("步驟 1/6", "環境準備與程式碼同步")
    if os.path.exists(PROJECT_DIR_NAME):
        run_command(f"rm -rf {PROJECT_DIR_NAME}", "清理舊專案資料夾")
    run_command(f"git clone {GIT_REPO_URL}", "從 GitHub 複製最新專案程式碼")
    os.chdir(PROJECT_DIR_NAME)
    print(f"\n工作目錄已切換至: {os.getcwd()}")

    # --- 步驟 2：安裝相依套件 ---
    print_step("步驟 2/6", "安裝前端與後端相依套件")
    # 正常模式下會隱藏 npm 的大量日誌，除錯模式則會完整顯示
    npm_description = "安裝 npm 相依套件 (此過程可能需數分鐘)"
    if IS_DEBUG_MODE:
        print("您正處於除錯模式，將顯示詳細的 npm 安裝日誌...")
        subprocess.run("npm install", shell=True, check=True)
        print(f"✅ 完成: {npm_description}")
    else:
        run_command("npm install -s", npm_description)

    # 若有後端套件，可在此處加入 run_command("pip install -r requirements.txt", "安裝 pip 相依套件")

    # --- 步驟 3：啟動服務 ---
    print_step("步驟 3/6", "在背景啟動核心服務")
    print("服務正在啟動中，日誌將被記錄...")
    with open(f"../{LOG_FILE}", "w") as log:
        start_command = "bash start.sh --mode=debug" if IS_DEBUG_MODE else "bash start.sh --mode=normal"
        service_process = subprocess.Popen(start_command, shell=True, stdout=log, stderr=log, preexec_fn=os.setsid)
    print("✅ 啟動指令已送出。")

    # --- 步驟 4：監控與等待服務上線 ---
    print_step("步驟 4/6", "監控服務狀態並等待上線 (最長等待 90 秒)")
    public_url = None
    service_ready = False
    for i in range(90):
        print(f"監控中... ({i+1}/90 秒)", end='\r')
        time.sleep(1)
        if not os.path.exists(f"../{LOG_FILE}"): continue
        with open(f"../{LOG_FILE}", "r") as log:
            log_content = log.read()
            if PORT_CONFLICT_INDICATOR in log_content:
                raise RuntimeError("端口已被佔用")
            if SUCCESS_INDICATOR in log_content:
                for line in log_content.splitlines():
                    if SUCCESS_INDICATOR in line:
                        url_candidate = line.split(' ')[-1]
                        if url_candidate.startswith("https://"):
                           public_url = url_candidate
                           service_ready = True
                           break
            if service_ready: break

    if not service_ready:
        raise RuntimeError("服務在指定時間內未能成功啟動")

    print("\n✅ 偵測到公開服務 URL，服務基礎啟動成功！")
    print(f"   服務位址: {public_url}")


    # --- 步驟 5：執行系統健康檢查 (僅限除錯模式) ---
    if IS_DEBUG_MODE:
        print_step("步驟 5/6", "[除錯模式] 執行自動化系統健康檢查")
        all_tests_passed = True

        def run_test(test_name, test_func):
            nonlocal all_tests_passed
            print(f"\n--- 開始測試: {test_name} ---")
            try:
                result = test_func()
                print(f"✔️ [成功] {test_name}")
                return result
            except Exception as e:
                print(f"❌ [失敗] {test_name}")
                print(f"   錯誤原因: {e}")
                all_tests_passed = False
                return None

        # 測試 1: 後端健康檢查
        def test_backend_health():
            response = requests.get(BACKEND_HEALTH_CHECK_URL, timeout=10)
            assert response.status_code == 200, f"預期狀態碼 200，但收到 {response.status_code}"
            print(f"   後端回應: {response.text}")
        run_test("後端 API 健康檢查", test_backend_health)

        # 測試 2: 前端服務可訪問性
        def test_frontend_access():
            response = requests.get(FRONTEND_CHECK_URL, timeout=10)
            assert response.status_code == 200, f"預期狀態碼 200，但收到 {response.status_code}"
            assert '<div id="root">' in response.text, "在 HTML 中找不到掛載點 <div id=\"root\">"
            print("   成功獲取 index.html 且找到掛載點。")
        run_test("前端靜態檔案可訪問性", test_frontend_access)

        # 測試 3: 核心 API 功能
        def test_core_api():
            headers = {'Content-Type': 'application/json'}
            response = requests.post(CORE_API_ENDPOINT, headers=headers, json=CORE_API_TEST_PAYLOAD, timeout=30)
            assert response.status_code == 200, f"預期狀態碼 200，但收到 {response.status_code}"
            response_json = response.json()
            assert "result" in response_json, "API 回應中缺少 'result' 欄位"
            print(f"   核心 API 成功回應，內容: {response_json}")
        run_test("核心功能 API 端點測試", test_core_api)

        print("\n--- 除錯模式測試總結 ---")
        if all_tests_passed:
            print("✅✅✅ 所有自動化測試均已成功通過！系統狀態良好。")
        else:
            print("❌❌❌ 部分自動化測試失敗，請檢查上述日誌以定位問題。")

    # --- 步驟 6：顯示最終結果 ---
    print_step("步驟 6/6", "最終結果")
    if IS_DEBUG_MODE:
        success_html = f"""<div style="border:2px solid blue;padding:16px;border-radius:8px;background-color:#ebf8ff"><h2 style="color:#2b6cb0">🔬 除錯模式執行完畢</h2><p>所有測試已執行完畢，詳細日誌如上所示。您的公開服務連結如下：</p><a href="{public_url}" target="_blank" style="font-size:18px;font-weight:bold;color:#3182ce">{public_url}</a></div>"""
    else: # 正常模式
        clear_output(wait=True)
        success_html = f"""<div style="border:2px solid green;padding:16px;border-radius:8px;background-color:#f0fff4"><h2 style="color:#2f855a">🚀 服務已成功啟動！</h2><p>您的應用程式已經準備就緒。請點擊下方的連結以開啟服務：</p><a href="{public_url}" target="_blank" style="font-size:18px;font-weight:bold;color:#3182ce">{public_url}</a><p style="margin-top:16px;font-size:12px;color:#718096">此儲存格將保持執行以維持服務運作。若要停止，請點擊左側的 ■ 停止按鈕。</p></div>"""
    display(HTML(success_html))

except RuntimeError as e:
    # 捕捉我們自己定義的錯誤（如端口衝突、啟動超時）
    if "端口已被佔用" in str(e):
        if IS_DEBUG_MODE:
            print("\n❌ [除錯模式] 偵測到端口衝突。請依照下方提示手動重啟執行階段。")
            print("   解決方案: 點擊【執行階段】->【中斷並重新啟動執行階段】後再試一次。")
        else:
            show_error_and_guide()
    else:
        print(f"\n❌ 發生未預期的執行階段錯誤: {e}")
        print("建議您先嘗試【執行階段】->【中斷並重新啟動執行階段】，然後再試一次。")
    # 在除錯模式下，打印完整的日誌以供分析
    if IS_DEBUG_MODE and os.path.exists(f"../{LOG_FILE}"):
        print("\n--- 完整服務日誌輸出 ---")
        with open(f"../{LOG_FILE}", "r") as log:
            print(log.read())

except Exception as e:
    # 捕捉所有其他可能的錯誤
    print(f"\n❌ 發生了一個未預期的嚴重錯誤：{e}")
    print("整個啟動流程已中斷。請檢查上述步驟的輸出以找出問題所在。")
