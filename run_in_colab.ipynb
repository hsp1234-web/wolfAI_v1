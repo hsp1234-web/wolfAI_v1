{
 "cells": [
  {
   "cell_type": "markdown",
   "metadata": {},
   "source": [
    "### 善甲狼週報 V2.0 - 可觀測性分析平台 Colab 執行入口\n",
    "點擊下方的按鈕選擇啟動模式："
   ]
  },
  {
   "cell_type": "code",
   "execution_count": null,
   "metadata": {},
   "outputs": [],
   "source": [
    "from IPython.display import display, HTML\n",
    "import ipywidgets as widgets\n",
    "\n",
    "button_normal_mode = widgets.Button(description='[ 正常模式 ]', button_style='success')\n",
    "button_debug_mode = widgets.Button(description='[ 除錯模式 ]', button_style='warning')\n",
    "output_area = widgets.Output()\n",
    "\n",
    "def on_button_normal_clicked(b):\n",
    "    with output_area:\n",
    "        output_area.clear_output()\n",
    "        print('您選擇了「正常模式」。開始執行應用程式...')\n",
    "        # 在此處添加「正常模式」的執行腳本\n",
    "        # !git clone <YOUR_REPO_URL>善甲狼週報V2\n",
    "        # %cd 善甲狼週報V2\n",
    "        # !pip install -r backend/requirements.txt\n",
    "        # !npm --prefix frontend install\n",
    "        # !npm --prefix frontend run build\n",
    "        # !nohup uvicorn backend.app.main:app --host 0.0.0.0 --port 8000 > logs/backend.log 2>&1 &\n",
    "        # !npm install -g serve\n",
    "        # !nohup serve -s frontend/out -p 3000 > logs/frontend.log 2>&1 &\n",
    "        print('（模擬）正常模式啟動完成。')\n",
    "\n",
    "def on_button_debug_clicked(b):\n",
    "    with output_area:\n",
    "        output_area.clear_output()\n",
    "        print('您選擇了「除錯模式」。開始執行健康度檢測...')\n",
    "        # 在此處添加「除錯模式」的執行腳本\n",
    "        # !python health_check_final.py\n",
    "        print('（模擬）除錯模式執行完成。')\n",
    "\n",
    "button_normal_mode.on_click(on_button_normal_clicked)\n",
    "button_debug_mode.on_click(on_button_debug_clicked)\n",
    "\n",
    "display(widgets.HBox([button_normal_mode, button_debug_mode]))\n",
    "display(output_area)"
   ]
  }
 ],
 "metadata": {
  "kernelspec": {
   "display_name": "Python 3",
   "language": "python",
   "name": "python3"
  },
  "language_info": {
   "codemirror_mode": {
    "name": "ipython",
    "version": 3
   },
   "file_extension": ".py",
   "mimetype": "text/x-python",
   "name": "python",
   "nbconvert_exporter": "python",
   "pygments_lexer": "ipython3",
   "version": "3.10.12"
  }
 },
 "nbformat": 4,
 "nbformat_minor": 5
}
