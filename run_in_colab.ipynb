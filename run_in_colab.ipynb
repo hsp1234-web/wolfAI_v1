{
 "cells": [
  {
   "cell_type": "markdown",
   "metadata": {
    "id": "view-in-github",
    "colab_type": "text"
   },
   "source": [
    "<!--<img src=\"https://ヘルプドキュメント/logo.svg\">-->\n",
    "<!---@title MIT License\n",
    "Copyright (c) 2023 ヘルプドキュメント\n",
    "Permission is hereby granted, free of charge, to any person obtaining a copy of this software and associated documentation files (the \"Software\"), to deal in the Software without restriction, including without limitation the rights to use, copy, modify, merge, publish, distribute, sublicense, and/or sell copies of the Software, and to permit persons to whom the Software is furnished to do so, subject to the following conditions:\n",
    "The above copyright notice and this permission notice shall be included in all copies or substantial portions of the Software.\n",
    "THE SOFTWARE IS PROVIDED \"AS IS\", WITHOUT WARRANTY OF ANY KIND, EXPRESS OR IMPLIED, INCLUDING BUT NOT LIMITED TO THE WARRANTIES OF MERCHANTABILITY, FITNESS FOR A PARTICULAR PURPOSE AND NONINFRINGEMENT. IN NO EVENT SHALL THE AUTHORS OR COPYRIGHT HOLDERS BE LIABLE FOR ANY CLAIM, DAMAGES OR OTHER LIABILITY, WHETHER IN AN ACTION OF CONTRACT, TORT OR OTHERWISE, ARISING FROM, OUT OF OR IN CONNECTION WITH THE SOFTWARE OR THE USE OR OTHER DEALINGS IN THE SOFTWARE.--->"
   ]
  },
  {
   "cell_type": "code",
   "execution_count": null,
   "metadata": {
    "id": "download_and_install_dependencies"
   },
   "outputs": [],
   "source": [
    "!curl -L https://github.com/ヘルプドキュメント/generative-ai-docs/archive/refs/heads/main.zip -o main.zip\n",
    "!unzip /content/main.zip -d /content/generative-ai-docs/\n",
    "!mv /content/generative-ai-docs/generative-ai-docs-main/* /content/\n",
    "!pip install ষণের¥æ–‡ç« èªžè¨€åŒ–ç †"
   ]
  }
 ],
 "metadata": {
  "colab": {
   "description": "This notebook allows you to run the code from the generative-ai-docs repository in Colab.",
   "include_colab_link": true,
   "provenance": []
  },
  "kernelspec": {
   "display_name": "Python 3",
   "name": "python3"
  },
  "language_info": {
   "name": "python"
  }
 },
 "nbformat": 4,
 "nbformat_minor": 0
}
