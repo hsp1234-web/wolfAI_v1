
import os
import shutil
import time
import requests
import subprocess
import pytz
from datetime import datetime
from IPython.display import display, HTML, clear_output
import ipywidgets as widgets
from google.colab import output

# --- 全域設定 ---
GIT_REPO_URL = "https://github.com/hsp1234-web/wolfAI_v1.git"
PROJECT_PARENT_DIR = "/content/wolf_project"
PROJECT_DIR_NAME = "wolfAI_v1"
FULL_PROJECT_PATH = os.path.join(PROJECT_PARENT_DIR, PROJECT_DIR_NAME)
TAIPEI_TZ = pytz.timezone('Asia/Taipei')

# --- UI 元件定義 ---
style = {'description_width': 'initial'}
mode_selection = widgets.RadioButtons(
    options=['一般模式 (normal)', '除錯模式 (debug)'],
    description='1. 請選擇啟動模式:',
    disabled=False,
    style=style
)
confirm_button = widgets.Button(
    description="確認並開始啟動",
    disabled=False,
    button_style='success',
    tooltip='點擊此按鈕開始安裝與部署',
    icon='rocket'
)
info_output = widgets.Output()

# --- Helper 函數 ---
def get_taipei_time_str():
    """返回格式化的台北時間字串"""
    return datetime.now(TAIPEI_TZ).strftime('%Y-%m-%d %H:%M:%S %Z')

def run_command(command, cwd=None):
    """執行 shell 命令並即時串流輸出"""
    process = subprocess.Popen(
        command, stdout=subprocess.PIPE, stderr=subprocess.STDOUT,
        shell=True, text=True, bufsize=1, universal_newlines=True, cwd=cwd
    )
    for line in iter(process.stdout.readline, ''):
        print(line, end='')
    process.stdout.close()
    return process.wait()

# --- UI 互動邏輯 ---
@info_output.capture(clear_output=True)
def display_mode_info(change):
    """根據選擇的模式顯示說明"""
    print("--- 模式說明 ---")
    #【修正】將 change.new 改為 change['new']，以同時相容 observe 和手動呼叫
    if "一般模式" in change['new']:
        print("🚀 一般模式 (Normal Mode):")
        print("   - 這是推薦給大多數使用者的標準模式。")
        print("   - 服務將在背景運行，您可以關閉瀏覽器分頁而不中斷服務。")
        print("   - 日誌會被儲存到 /content/logs/ 目錄下的檔案中，方便問題排查。")
    elif "除錯模式" in change['new']:
        print("🐞 除錯模式 (Debug Mode):")
        print("   - 這是為開發者設計的模式。")
        print("   - 服務將在前台運行，所有詳細日誌會直接輸出到下方的儲存格中。")
        print("   - 如果您關閉瀏覽器或 Colab 連線中斷，服務將會停止。")
        print("   - 有利於即時監控服務狀態和快速定位問題。")

def start_deployment(b):
    """點擊確認按鈕後執行的主程序"""
    clear_output(wait=True)
    confirm_button.disabled = True
    mode_selection.disabled = True

    selected_mode_str = mode_selection.value.split('(')[1].replace(')', '')
    branch_name = os.getenv('COLAB_BRANCH_NAME', 'main')
    operation_mode = os.getenv('COLAB_OPERATION_MODE', 'transient')

    print(f"[{get_taipei_time_str()}] ✅ 設定已確認")
    print(f"   - 操作模式 (COLAB_OPERATION_MODE): {operation_mode}")
    print(f"   - 啟動模式 (MODE): {selected_mode_str}")
    print(f"   - 程式碼分支 (COLAB_BRANCH_NAME): {branch_name}")
    print("-" * 30)
    print("-" * 30)

    os.environ['OPERATION_MODE'] = operation_mode

    print(f"\n[{get_taipei_time_str()}] STEP 1: 檢查 Google Drive 掛載 (操作模式: {operation_mode})...")
    if operation_mode == "persistent":
        try:
            from google.colab import drive
            drive.mount('/content/drive', force_remount=True)
            print(f"[{get_taipei_time_str()}] ✅ SUCCESS: Google Drive 已成功掛載到 /content/drive")
            print(f"[{get_taipei_time_str()}] INFO: 持久模式 - 檢查 Colab Secrets...")
            required_secrets = ['COLAB_GOOGLE_API_KEY', 'GOOGLE_SERVICE_ACCOUNT_JSON_CONTENT', 'WOLF_IN_FOLDER_ID', 'WOLF_PROCESSED_FOLDER_ID']
            missing_secrets = [s for s in required_secrets if not os.getenv(s)]
            if missing_secrets:
                print(f"[{get_taipei_time_str()}] ❌ WARNING: 持久模式下，以下必要的 Colab Secrets 未設定或為空值: {', '.join(missing_secrets)}。部分功能可能受限。")
            else:
                print(f"[{get_taipei_time_str()}] ✅ SUCCESS: 持久模式所需的核心 Secrets 均已設定。")
        except Exception as e:
            print(f"[{get_taipei_time_str()}] ❌ ERROR: 掛載 Google Drive 或檢查 Secrets 時發生錯誤: {e}")
    else:
        print(f"[{get_taipei_time_str()}] INFO: 暫存模式 - 跳過 Google Drive 掛載和持久化相關 Secrets 檢查。")
        if not os.getenv('COLAB_GOOGLE_API_KEY'):
            print(f"[{get_taipei_time_str()}] ⚠️ WARNING: COLAB_GOOGLE_API_KEY 未設定。AI 分析功能可能無法使用。請在 Colab 的 'Secrets' 中設定它。")
        else:
            print(f"[{get_taipei_time_str()}] ✅ INFO: COLAB_GOOGLE_API_KEY 已偵測到。")

    print(f"\n[{get_taipei_time_str()}] STEP 2: 複製專案程式碼 (分支: {branch_name})...")
    if os.path.exists(FULL_PROJECT_PATH):
        print(f"[{get_taipei_time_str()}] INFO: 偵測到已存在的專案目錄，將先移除: {FULL_PROJECT_PATH}")
        shutil.rmtree(FULL_PROJECT_PATH)
    os.makedirs(PROJECT_PARENT_DIR, exist_ok=True)
    clone_command = f"git clone --depth 1 -b {branch_name} {GIT_REPO_URL} {FULL_PROJECT_PATH}"
    print(f"[{get_taipei_time_str()}] INFO: 執行 Git clone 命令: {clone_command}")
    if run_command(clone_command) != 0:
        print(f"[{get_taipei_time_str()}] ❌ FATAL: 專案複製失敗。請檢查日誌、URL、分支名稱以及您的網路連線。")
        confirm_button.disabled = False
        mode_selection.disabled = False
        return
    print(f"[{get_taipei_time_str()}] ✅ SUCCESS: 專案已成功複製到 '{FULL_PROJECT_PATH}'。")

    print(f"\n[{get_taipei_time_str()}] STEP 3: 執行主控啟動腳本 (scripts/start.sh) ...")
    start_script_path = os.path.join(FULL_PROJECT_PATH, 'scripts', 'start.sh')
    if not os.path.exists(start_script_path):
        print(f"[{get_taipei_time_str()}] ❌ FATAL: 找不到啟動腳本: {start_script_path}。請確認專案結構是否正確。")
        confirm_button.disabled = False
        mode_selection.disabled = False
        return

    os.chmod(start_script_path, 0o755)
    start_command = f"{start_script_path} --mode={selected_mode_str}"
    print(f"[{get_taipei_time_str()}] INFO: 執行啟動命令: {start_command}")
    if run_command(start_command, cwd=FULL_PROJECT_PATH) != 0:
        print(f"[{get_taipei_time_str()}] ❌ FATAL: 啟動腳本執行失敗。請檢查上方詳細日誌輸出以了解原因。")
        print(f"[{get_taipei_time_str()}] INFO: 可能的解決方案：檢查 scripts/start.sh 中的依賴安裝步驟，或切換到 '除錯模式' 以獲取更直接的日誌。")
        confirm_button.disabled = False
        mode_selection.disabled = False
        return
    print(f"[{get_taipei_time_str()}] ✅ SUCCESS: 啟動腳本已成功執行。")

    print(f"\n[{get_taipei_time_str()}] STEP 4: 健康度偵測 (Health Check) - 請耐心等待約 1-2 分鐘...")
    backend_health_url = "http://localhost:8000/api/health"
    max_wait_seconds = 120
    check_interval = 10
    start_time = time.time()
    backend_ready = False

    while time.time() - start_time < max_wait_seconds:
        try:
            response = requests.get(backend_health_url, timeout=5)
            if response.status_code == 200:
                print(f"[{get_taipei_time_str()}] ✅ INFO: 後端服務健康檢查通過！狀態碼: {response.status_code}")
                backend_ready = True
                break
            else:
                print(f"[{get_taipei_time_str()}] ⏳ WARNING: 後端服務健康檢查返回異常狀態碼: {response.status_code}。正在重試...")
        except requests.exceptions.RequestException as e:
            print(f"[{get_taipei_time_str()}] ⏳ INFO: 後端服務尚未就緒 (連接中斷或超時): {str(e).splitlines()[0]}。正在重試...")
        time.sleep(check_interval)

    print(f"\n[{get_taipei_time_str()}] STEP 5: 顯示結果...")
    border = "="*70
    if backend_ready:
        print(f"\n{border}")
        display(HTML("<h2>✅ 應用程式後端已就緒！</h2>"))
        try:
            frontend_url = output.eval_js(f'google.colab.kernel.proxyPort(3000, {{ "cache_bust": true }})')
            display(HTML(f"<p>🔗 前端應用程式訪問網址 (Colab Proxy URL): <a href='{frontend_url}' target='_blank'>{frontend_url}</a></p>"))
            print(f"注意：如果前端頁面沒有立即載入，請稍等片刻或嘗試刷新頁面。")
        except Exception as e:
            display(HTML(f"<p>⚠️ 無法自動獲取前端 Colab 代理 URL。您可以嘗試手動在 Colab 的輸出上方尋找相關連結。錯誤: {e}</p>"))
        print(f"{border}\n")
    else:
        print(f"\n{border}")
        display(HTML("<h2>❌ 很抱歉，後端服務未能成功啟動。</h2>"))
        print("   請仔細檢查上方的日誌輸出以了解詳細錯誤信息。")
        print("   常見問題可能包括：依賴安裝失敗、埠衝突、或程式碼內部錯誤。")
        print(f"{border}\n")

    confirm_button.disabled = False
    mode_selection.disabled = False

# --- 主執行區 ---
mode_selection.observe(display_mode_info, names='value')
confirm_button.on_click(start_deployment)

print("歡迎使用 蒼狼 AI 分析平台！請完成以下設定後，點擊按鈕開始。")
display(mode_selection, confirm_button, info_output)
#【修正】這裡的呼叫方式不變，但因為上面的函式已修改，所以現在可以正常運作了
display_mode_info({'new': mode_selection.value})
